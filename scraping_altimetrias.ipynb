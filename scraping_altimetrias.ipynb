{
 "cells": [
  {
   "cell_type": "code",
   "execution_count": 1,
   "metadata": {},
   "outputs": [],
   "source": [
    "#Altimetrias.net usa un código de tres dígitos para identificar los puertos, del 001 al 766.\n",
    "\n",
    "base_url_puerto = 'https://www.altimetrias.net/aspbk/verPuerto.asp?id='"
   ]
  },
  {
   "cell_type": "code",
   "execution_count": 2,
   "metadata": {},
   "outputs": [],
   "source": [
    "import requests\n",
    "from bs4 import BeautifulSoup"
   ]
  },
  {
   "cell_type": "code",
   "execution_count": 3,
   "metadata": {},
   "outputs": [],
   "source": [
    "puerto = '001'\n",
    "\n",
    "url = f'{base_url_puerto}{puerto}'"
   ]
  },
  {
   "cell_type": "code",
   "execution_count": 4,
   "metadata": {},
   "outputs": [],
   "source": [
    "html = requests.get(url).text"
   ]
  },
  {
   "cell_type": "code",
   "execution_count": 5,
   "metadata": {},
   "outputs": [],
   "source": [
    "soup = BeautifulSoup(html, 'html.parser')"
   ]
  },
  {
   "cell_type": "code",
   "execution_count": 6,
   "metadata": {},
   "outputs": [
    {
     "data": {
      "text/plain": [
       "<table align=\"center\" bgcolor=\"#000000\" cellpadding=\"5\" cellspacing=\"1\" width=\"100%\">\n",
       "<tr>\n",
       "<td align=\"center\" id=\"provincias\" nowrap=\"\" width=\"15%\">\n",
       "<img border=\"0\" height=\"84\" src=\"imagenes/4Bizkaia.png\" width=\"112\"/><font color=\"#F97771\">BIZKAIA</font></td>\n",
       "<td align=\"center\" width=\"75%\"><font color=\"#FFCC00\" size=\"6\"><b>NABARNIZ</b></font><br/><font color=\"#FFFFFF\" size=\"5\"><b>Aulesti-Narea</b></font><!-- <a class=\"LinkGorri\" href=\"../asppdf/importare/importare.asp?id=1&nombre=Nabarniz\">&nbsp;</a> --></td>\n",
       "<td align=\"center\" width=\"15%\"><a href=\"../default.asp\"><img border=\"0\" src=\"../imagenes/verPuerto.jpg\"/></a><font color=\"#FFFF00\" size=\"3\"><b>15706</b></font> <font color=\"#C0C0C0\" size=\"3\"><b>visitas</b></font></td>\n",
       "</tr>\n",
       "</table>"
      ]
     },
     "execution_count": 6,
     "metadata": {},
     "output_type": "execute_result"
    }
   ],
   "source": [
    "#En esta tabla encontramos la provincia, nombre del puerto y localidad:\n",
    "tabla_0 = soup.find_all('table')[0]\n",
    "tabla_0"
   ]
  },
  {
   "cell_type": "code",
   "execution_count": 7,
   "metadata": {},
   "outputs": [
    {
     "data": {
      "text/plain": [
       "<table align=\"center\" bgcolor=\"#000000\" cellpadding=\"5\" cellspacing=\"1\" width=\"100%\">\n",
       "<tr align=\"center\" bgcolor=\"#DDDDDD\">\n",
       "<td nowrap=\"\" width=\"1%\"><img alt=\"\" border=\"0\" height=\"25\" src=\"imagenes/xaltitud.png\" width=\"25\"/> <font size=\"3\"><b>Altitud: </b>365 m</font></td>\n",
       "<td nowrap=\"\" width=\"1%\"><img alt=\"\" border=\"0\" height=\"25\" src=\"imagenes/xdistancia.png\" width=\"25\"/> <font size=\"3\"><b>Distancia:</b> 4,4 km</font></td>\n",
       "<td nowrap=\"\" width=\"1%\"><img alt=\"\" border=\"0\" height=\"25\" src=\"imagenes/xdesnivel.png\" width=\"25\"/> <font size=\"3\"><b>Desnivel:</b> 273 m</font></td>\n",
       "<td nowrap=\"\" width=\"1%\"><img alt=\"\" border=\"0\" height=\"25\" src=\"imagenes/xpendiente.png\" width=\"25\"/> <font size=\"3\"><b>Pendiente Media: </b>6,2 %</font></td>\n",
       "<td nowrap=\"\" width=\"1%\"><font size=\"3\"><b>Coeficiente: </b><font color=\"red\"><b>81</b></font></font></td>\n",
       "</tr>\n",
       "</table>"
      ]
     },
     "execution_count": 7,
     "metadata": {},
     "output_type": "execute_result"
    }
   ],
   "source": [
    "#En esta tabla veremos altitud, distancia, desnivel, pendiente y coeficiente.\n",
    "tabla_1 = soup.find_all('table')[1]\n",
    "tabla_1"
   ]
  },
  {
   "cell_type": "code",
   "execution_count": 8,
   "metadata": {},
   "outputs": [],
   "source": [
    "filas_0 = tabla_0.find_all('td')"
   ]
  },
  {
   "cell_type": "code",
   "execution_count": 9,
   "metadata": {},
   "outputs": [
    {
     "data": {
      "text/plain": [
       "<td align=\"center\" id=\"provincias\" nowrap=\"\" width=\"15%\">\n",
       "<img border=\"0\" height=\"84\" src=\"imagenes/4Bizkaia.png\" width=\"112\"/><font color=\"#F97771\">BIZKAIA</font></td>"
      ]
     },
     "execution_count": 9,
     "metadata": {},
     "output_type": "execute_result"
    }
   ],
   "source": [
    "#Provincia.\n",
    "\n",
    "filas_0[0] "
   ]
  },
  {
   "cell_type": "code",
   "execution_count": 10,
   "metadata": {},
   "outputs": [
    {
     "data": {
      "text/plain": [
       "<td align=\"center\" width=\"75%\"><font color=\"#FFCC00\" size=\"6\"><b>NABARNIZ</b></font><br/><font color=\"#FFFFFF\" size=\"5\"><b>Aulesti-Narea</b></font><!-- <a class=\"LinkGorri\" href=\"../asppdf/importare/importare.asp?id=1&nombre=Nabarniz\">&nbsp;</a> --></td>"
      ]
     },
     "execution_count": 10,
     "metadata": {},
     "output_type": "execute_result"
    }
   ],
   "source": [
    "#Población y puerto.\n",
    "\n",
    "filas_0[1] "
   ]
  },
  {
   "cell_type": "code",
   "execution_count": 11,
   "metadata": {},
   "outputs": [
    {
     "data": {
      "text/plain": [
       "'BIZKAIA'"
      ]
     },
     "execution_count": 11,
     "metadata": {},
     "output_type": "execute_result"
    }
   ],
   "source": [
    "#Obteniendo la provincia:\n",
    "\n",
    "filas_0[0].text.strip()"
   ]
  },
  {
   "cell_type": "code",
   "execution_count": 12,
   "metadata": {},
   "outputs": [
    {
     "data": {
      "text/plain": [
       "'NABARNIZ'"
      ]
     },
     "execution_count": 12,
     "metadata": {},
     "output_type": "execute_result"
    }
   ],
   "source": [
    "#Ahora el puerto:\n",
    "\n",
    "filas_0[1].contents[0].text.strip()"
   ]
  },
  {
   "cell_type": "code",
   "execution_count": 13,
   "metadata": {},
   "outputs": [
    {
     "data": {
      "text/plain": [
       "'Aulesti-Narea'"
      ]
     },
     "execution_count": 13,
     "metadata": {},
     "output_type": "execute_result"
    }
   ],
   "source": [
    "#Y finalmente la población:\n",
    "\n",
    "filas_0[1].contents[2].text.strip()"
   ]
  },
  {
   "cell_type": "code",
   "execution_count": 14,
   "metadata": {},
   "outputs": [],
   "source": [
    "#Ahora vamos a seguir el mismo procedimiento para las cifras del puerto.\n",
    "\n",
    "filas_1 = tabla_1.find_all('td')"
   ]
  },
  {
   "cell_type": "code",
   "execution_count": 15,
   "metadata": {},
   "outputs": [
    {
     "data": {
      "text/plain": [
       "'Altitud: 365 m'"
      ]
     },
     "execution_count": 15,
     "metadata": {},
     "output_type": "execute_result"
    }
   ],
   "source": [
    "#Altitud:\n",
    "filas_1[0].contents[2].text.strip()"
   ]
  },
  {
   "cell_type": "code",
   "execution_count": 16,
   "metadata": {},
   "outputs": [
    {
     "data": {
      "text/plain": [
       "'Distancia: 4,4 km'"
      ]
     },
     "execution_count": 16,
     "metadata": {},
     "output_type": "execute_result"
    }
   ],
   "source": [
    "#Distancia:\n",
    "filas_1[1].contents[2].text.strip()"
   ]
  },
  {
   "cell_type": "code",
   "execution_count": 17,
   "metadata": {},
   "outputs": [
    {
     "data": {
      "text/plain": [
       "'Desnivel: 273 m'"
      ]
     },
     "execution_count": 17,
     "metadata": {},
     "output_type": "execute_result"
    }
   ],
   "source": [
    "#Desnivel:\n",
    "filas_1[2].contents[2].text.strip()"
   ]
  },
  {
   "cell_type": "code",
   "execution_count": 18,
   "metadata": {},
   "outputs": [
    {
     "data": {
      "text/plain": [
       "'Pendiente Media: 6,2 %'"
      ]
     },
     "execution_count": 18,
     "metadata": {},
     "output_type": "execute_result"
    }
   ],
   "source": [
    "#Pendiente:\n",
    "filas_1[3].contents[2].text.strip()"
   ]
  },
  {
   "cell_type": "code",
   "execution_count": 19,
   "metadata": {},
   "outputs": [
    {
     "data": {
      "text/plain": [
       "'Coeficiente: 81'"
      ]
     },
     "execution_count": 19,
     "metadata": {},
     "output_type": "execute_result"
    }
   ],
   "source": [
    "#Coeficiente:\n",
    "filas_1[4].contents[0].text.strip()"
   ]
  },
  {
   "cell_type": "code",
   "execution_count": 20,
   "metadata": {},
   "outputs": [],
   "source": [
    "#Creando un diccionario del puerto:\n",
    "import re\n",
    "\n",
    "puerto = [{'puerto': filas_0[1].contents[0].text.strip(),\n",
    "          'provincia': filas_0[0].text.strip(),\n",
    "          'pueblo': filas_0[1].contents[2].text.strip(),\n",
    "          'altitud': re.findall(r\"\\d+\", filas_1[0].contents[2].text.strip())[0],\n",
    "          'distancia': re.findall(r\"\\d+,\\d\", filas_1[1].contents[2].text.strip())[0],\n",
    "          'desnivel': re.findall(r\"\\d+\",filas_1[2].contents[2].text.strip())[0],\n",
    "          'pendiente': re.findall(r\"\\d+,\\d\",filas_1[3].contents[2].text.strip())[0],\n",
    "          'coeficiente': re.findall(r\"\\d+\",filas_1[4].contents[0].text.strip())[0]}]"
   ]
  },
  {
   "cell_type": "code",
   "execution_count": 21,
   "metadata": {},
   "outputs": [
    {
     "data": {
      "text/plain": [
       "[{'puerto': 'NABARNIZ',\n",
       "  'provincia': 'BIZKAIA',\n",
       "  'pueblo': 'Aulesti-Narea',\n",
       "  'altitud': '365',\n",
       "  'distancia': '4,4',\n",
       "  'desnivel': '273',\n",
       "  'pendiente': '6,2',\n",
       "  'coeficiente': '81'}]"
      ]
     },
     "execution_count": 21,
     "metadata": {},
     "output_type": "execute_result"
    }
   ],
   "source": [
    "puerto"
   ]
  },
  {
   "cell_type": "code",
   "execution_count": 22,
   "metadata": {},
   "outputs": [],
   "source": [
    "#Definiendo una función para extraer el diccionario de cada puerto:  \n",
    "\n",
    "def scraper_puertos(x):\n",
    "    if len(str(x)) == 1:\n",
    "        x = '00' + str(x)\n",
    "    elif len(str(x)) == 2:\n",
    "        x = '0' + str(x)\n",
    "    else:\n",
    "        pass\n",
    "    base_url_puerto = 'https://www.altimetrias.net/aspbk/verPuerto.asp?id='\n",
    "    url = f'{base_url_puerto}{x}'\n",
    "    html = requests.get(url).text\n",
    "    soup = BeautifulSoup(html, 'html.parser')\n",
    "    tabla_0 = soup.find_all('table')[0]\n",
    "    tabla_1 = soup.find_all('table')[1]\n",
    "    filas_0 = tabla_0.find_all('td')\n",
    "    filas_1 = tabla_1.find_all('td')\n",
    "    puerto = [{'puerto': filas_0[1].contents[0].text.strip(),\n",
    "          'provincia': filas_0[0].text.strip(),\n",
    "          'pueblo': filas_0[1].contents[2].text.strip(),\n",
    "          'altitud': int(re.findall(r\"\\d+\", filas_1[0].contents[2].text.strip())[0]),\n",
    "          'distancia': int(re.findall(r\"\\d+\", filas_1[1].contents[2].text.strip())[0]),\n",
    "          'desnivel': int(re.findall(r\"\\d+\",filas_1[2].contents[2].text.strip())[0]),\n",
    "          'pendiente': int(re.findall(r\"\\d+\",filas_1[3].contents[2].text.strip())[0]),\n",
    "          'coeficiente': int(re.findall(r\"\\d+\",filas_1[4].contents[0].text.strip())[0])}]\n",
    "    return puerto\n",
    "    print(puerto)"
   ]
  },
  {
   "cell_type": "code",
   "execution_count": 23,
   "metadata": {},
   "outputs": [
    {
     "name": "stdout",
     "output_type": "stream",
     "text": [
      "[{'puerto': 'NABARNIZ', 'provincia': 'BIZKAIA', 'pueblo': 'Aulesti-Narea', 'altitud': 365, 'distancia': 4, 'desnivel': 273, 'pendiente': 6, 'coeficiente': 81}]\n",
      "[{'puerto': 'ANDRAKA', 'provincia': 'BIZKAIA', 'pueblo': 'Plentzia', 'altitud': 138, 'distancia': 3, 'desnivel': 129, 'pendiente': 3, 'coeficiente': 17}]\n",
      "[{'puerto': 'ANDRAKA', 'provincia': 'BIZKAIA', 'pueblo': 'Asteintza (Jatabe/Maruri)', 'altitud': 138, 'distancia': 3, 'desnivel': 114, 'pendiente': 3, 'coeficiente': 15}]\n",
      "[{'puerto': 'ARTEBAKARRA', 'provincia': 'BIZKAIA', 'pueblo': 'Derio', 'altitud': 137, 'distancia': 3, 'desnivel': 113, 'pendiente': 3, 'coeficiente': 15}]\n"
     ]
    }
   ],
   "source": [
    "for i in range(1,5):\n",
    "    try:\n",
    "        puerto_gen = scraper_puertos(i)\n",
    "        print(puerto_gen)\n",
    "    except:\n",
    "        pass  "
   ]
  },
  {
   "cell_type": "code",
   "execution_count": 24,
   "metadata": {},
   "outputs": [
    {
     "data": {
      "text/html": [
       "<div>\n",
       "<style scoped>\n",
       "    .dataframe tbody tr th:only-of-type {\n",
       "        vertical-align: middle;\n",
       "    }\n",
       "\n",
       "    .dataframe tbody tr th {\n",
       "        vertical-align: top;\n",
       "    }\n",
       "\n",
       "    .dataframe thead th {\n",
       "        text-align: right;\n",
       "    }\n",
       "</style>\n",
       "<table border=\"1\" class=\"dataframe\">\n",
       "  <thead>\n",
       "    <tr style=\"text-align: right;\">\n",
       "      <th></th>\n",
       "      <th>puerto</th>\n",
       "      <th>provincia</th>\n",
       "      <th>pueblo</th>\n",
       "      <th>altitud</th>\n",
       "      <th>distancia</th>\n",
       "      <th>desnivel</th>\n",
       "      <th>pendiente</th>\n",
       "      <th>coeficiente</th>\n",
       "    </tr>\n",
       "  </thead>\n",
       "  <tbody>\n",
       "    <tr>\n",
       "      <th>0</th>\n",
       "      <td>NABARNIZ</td>\n",
       "      <td>BIZKAIA</td>\n",
       "      <td>Aulesti-Narea</td>\n",
       "      <td>365</td>\n",
       "      <td>4</td>\n",
       "      <td>273</td>\n",
       "      <td>6</td>\n",
       "      <td>81</td>\n",
       "    </tr>\n",
       "  </tbody>\n",
       "</table>\n",
       "</div>"
      ],
      "text/plain": [
       "     puerto provincia         pueblo  altitud  distancia  desnivel  pendiente  \\\n",
       "0  NABARNIZ   BIZKAIA  Aulesti-Narea      365          4       273          6   \n",
       "\n",
       "   coeficiente  \n",
       "0           81  "
      ]
     },
     "execution_count": 24,
     "metadata": {},
     "output_type": "execute_result"
    }
   ],
   "source": [
    "import pandas as pd\n",
    "\n",
    "df_puertos = pd.DataFrame.from_dict(scraper_puertos(1))\n",
    "df_puertos.head()"
   ]
  },
  {
   "cell_type": "code",
   "execution_count": 25,
   "metadata": {},
   "outputs": [],
   "source": [
    "for i in range(2,766):\n",
    "    try:\n",
    "        puerto_gen = scraper_puertos(i)\n",
    "        df_puertos = df_puertos.append(puerto_gen, ignore_index=True)\n",
    "    except:\n",
    "        pass "
   ]
  },
  {
   "cell_type": "code",
   "execution_count": 26,
   "metadata": {},
   "outputs": [
    {
     "name": "stdout",
     "output_type": "stream",
     "text": [
      "<class 'pandas.core.frame.DataFrame'>\n",
      "RangeIndex: 745 entries, 0 to 744\n",
      "Data columns (total 8 columns):\n",
      " #   Column       Non-Null Count  Dtype \n",
      "---  ------       --------------  ----- \n",
      " 0   puerto       745 non-null    object\n",
      " 1   provincia    745 non-null    object\n",
      " 2   pueblo       745 non-null    object\n",
      " 3   altitud      745 non-null    int64 \n",
      " 4   distancia    745 non-null    int64 \n",
      " 5   desnivel     745 non-null    int64 \n",
      " 6   pendiente    745 non-null    int64 \n",
      " 7   coeficiente  745 non-null    int64 \n",
      "dtypes: int64(5), object(3)\n",
      "memory usage: 46.7+ KB\n"
     ]
    }
   ],
   "source": [
    "df_puertos.head()\n",
    "\n",
    "df_puertos.info()"
   ]
  },
  {
   "cell_type": "code",
   "execution_count": 27,
   "metadata": {},
   "outputs": [
    {
     "data": {
      "text/html": [
       "<div>\n",
       "<style scoped>\n",
       "    .dataframe tbody tr th:only-of-type {\n",
       "        vertical-align: middle;\n",
       "    }\n",
       "\n",
       "    .dataframe tbody tr th {\n",
       "        vertical-align: top;\n",
       "    }\n",
       "\n",
       "    .dataframe thead th {\n",
       "        text-align: right;\n",
       "    }\n",
       "</style>\n",
       "<table border=\"1\" class=\"dataframe\">\n",
       "  <thead>\n",
       "    <tr style=\"text-align: right;\">\n",
       "      <th></th>\n",
       "      <th>puerto</th>\n",
       "      <th>pueblo</th>\n",
       "      <th>altitud</th>\n",
       "      <th>distancia</th>\n",
       "      <th>desnivel</th>\n",
       "      <th>pendiente</th>\n",
       "      <th>coeficiente</th>\n",
       "    </tr>\n",
       "    <tr>\n",
       "      <th>provincia</th>\n",
       "      <th></th>\n",
       "      <th></th>\n",
       "      <th></th>\n",
       "      <th></th>\n",
       "      <th></th>\n",
       "      <th></th>\n",
       "      <th></th>\n",
       "    </tr>\n",
       "  </thead>\n",
       "  <tbody>\n",
       "    <tr>\n",
       "      <th>BIZKAIA</th>\n",
       "      <td>159</td>\n",
       "      <td>159</td>\n",
       "      <td>159</td>\n",
       "      <td>159</td>\n",
       "      <td>159</td>\n",
       "      <td>159</td>\n",
       "      <td>159</td>\n",
       "    </tr>\n",
       "    <tr>\n",
       "      <th>CANTABRIA</th>\n",
       "      <td>57</td>\n",
       "      <td>57</td>\n",
       "      <td>57</td>\n",
       "      <td>57</td>\n",
       "      <td>57</td>\n",
       "      <td>57</td>\n",
       "      <td>57</td>\n",
       "    </tr>\n",
       "    <tr>\n",
       "      <th>GIPUZKOA</th>\n",
       "      <td>54</td>\n",
       "      <td>54</td>\n",
       "      <td>54</td>\n",
       "      <td>54</td>\n",
       "      <td>54</td>\n",
       "      <td>54</td>\n",
       "      <td>54</td>\n",
       "    </tr>\n",
       "    <tr>\n",
       "      <th>BURGOS</th>\n",
       "      <td>44</td>\n",
       "      <td>44</td>\n",
       "      <td>44</td>\n",
       "      <td>44</td>\n",
       "      <td>44</td>\n",
       "      <td>44</td>\n",
       "      <td>44</td>\n",
       "    </tr>\n",
       "    <tr>\n",
       "      <th>NAVARRA</th>\n",
       "      <td>37</td>\n",
       "      <td>37</td>\n",
       "      <td>37</td>\n",
       "      <td>37</td>\n",
       "      <td>37</td>\n",
       "      <td>37</td>\n",
       "      <td>37</td>\n",
       "    </tr>\n",
       "  </tbody>\n",
       "</table>\n",
       "</div>"
      ],
      "text/plain": [
       "           puerto  pueblo  altitud  distancia  desnivel  pendiente  \\\n",
       "provincia                                                            \n",
       "BIZKAIA       159     159      159        159       159        159   \n",
       "CANTABRIA      57      57       57         57        57         57   \n",
       "GIPUZKOA       54      54       54         54        54         54   \n",
       "BURGOS         44      44       44         44        44         44   \n",
       "NAVARRA        37      37       37         37        37         37   \n",
       "\n",
       "           coeficiente  \n",
       "provincia               \n",
       "BIZKAIA            159  \n",
       "CANTABRIA           57  \n",
       "GIPUZKOA            54  \n",
       "BURGOS              44  \n",
       "NAVARRA             37  "
      ]
     },
     "execution_count": 27,
     "metadata": {},
     "output_type": "execute_result"
    }
   ],
   "source": [
    "df_puertos.groupby('provincia').count().sort_values('puerto', ascending=False).head(5)"
   ]
  },
  {
   "cell_type": "code",
   "execution_count": null,
   "metadata": {
    "scrolled": false
   },
   "outputs": [],
   "source": []
  },
  {
   "cell_type": "code",
   "execution_count": 28,
   "metadata": {},
   "outputs": [],
   "source": [
    "df_puertos.sort_values('coeficiente', ascending=False, inplace=True)"
   ]
  },
  {
   "cell_type": "code",
   "execution_count": 29,
   "metadata": {},
   "outputs": [
    {
     "data": {
      "text/html": [
       "<div>\n",
       "<style scoped>\n",
       "    .dataframe tbody tr th:only-of-type {\n",
       "        vertical-align: middle;\n",
       "    }\n",
       "\n",
       "    .dataframe tbody tr th {\n",
       "        vertical-align: top;\n",
       "    }\n",
       "\n",
       "    .dataframe thead th {\n",
       "        text-align: right;\n",
       "    }\n",
       "</style>\n",
       "<table border=\"1\" class=\"dataframe\">\n",
       "  <thead>\n",
       "    <tr style=\"text-align: right;\">\n",
       "      <th></th>\n",
       "      <th>puerto</th>\n",
       "      <th>provincia</th>\n",
       "      <th>pueblo</th>\n",
       "      <th>altitud</th>\n",
       "      <th>distancia</th>\n",
       "      <th>desnivel</th>\n",
       "      <th>pendiente</th>\n",
       "      <th>coeficiente</th>\n",
       "    </tr>\n",
       "  </thead>\n",
       "  <tbody>\n",
       "    <tr>\n",
       "      <th>696</th>\n",
       "      <td>SIERRA NEVADA-PICO VELETA</td>\n",
       "      <td>GRANADA</td>\n",
       "      <td>Haza Llanas-Las Sabinas</td>\n",
       "      <td>3296</td>\n",
       "      <td>39</td>\n",
       "      <td>2527</td>\n",
       "      <td>6</td>\n",
       "      <td>616</td>\n",
       "    </tr>\n",
       "    <tr>\n",
       "      <th>386</th>\n",
       "      <td>SIERRA NEVADA-PICO VELETA</td>\n",
       "      <td>GRANADA</td>\n",
       "      <td>Güéjar Sierra</td>\n",
       "      <td>3367</td>\n",
       "      <td>44</td>\n",
       "      <td>2557</td>\n",
       "      <td>5</td>\n",
       "      <td>549</td>\n",
       "    </tr>\n",
       "    <tr>\n",
       "      <th>250</th>\n",
       "      <td>ANGLIRU</td>\n",
       "      <td>ASTURIAS</td>\n",
       "      <td>Santa Eulalia</td>\n",
       "      <td>1570</td>\n",
       "      <td>18</td>\n",
       "      <td>1423</td>\n",
       "      <td>7</td>\n",
       "      <td>528</td>\n",
       "    </tr>\n",
       "    <tr>\n",
       "      <th>267</th>\n",
       "      <td>ANGLIRU</td>\n",
       "      <td>ASTURIAS</td>\n",
       "      <td>La Vega (Riosa)</td>\n",
       "      <td>1572</td>\n",
       "      <td>12</td>\n",
       "      <td>1266</td>\n",
       "      <td>10</td>\n",
       "      <td>515</td>\n",
       "    </tr>\n",
       "    <tr>\n",
       "      <th>452</th>\n",
       "      <td>GAMONITEIRO</td>\n",
       "      <td>ASTURIAS</td>\n",
       "      <td>Pola-Cobertoria</td>\n",
       "      <td>1772</td>\n",
       "      <td>15</td>\n",
       "      <td>1465</td>\n",
       "      <td>9</td>\n",
       "      <td>492</td>\n",
       "    </tr>\n",
       "  </tbody>\n",
       "</table>\n",
       "</div>"
      ],
      "text/plain": [
       "                        puerto provincia                   pueblo  altitud  \\\n",
       "696  SIERRA NEVADA-PICO VELETA   GRANADA  Haza Llanas-Las Sabinas     3296   \n",
       "386  SIERRA NEVADA-PICO VELETA   GRANADA            Güéjar Sierra     3367   \n",
       "250                    ANGLIRU  ASTURIAS            Santa Eulalia     1570   \n",
       "267                    ANGLIRU  ASTURIAS          La Vega (Riosa)     1572   \n",
       "452                GAMONITEIRO  ASTURIAS          Pola-Cobertoria     1772   \n",
       "\n",
       "     distancia  desnivel  pendiente  coeficiente  \n",
       "696         39      2527          6          616  \n",
       "386         44      2557          5          549  \n",
       "250         18      1423          7          528  \n",
       "267         12      1266         10          515  \n",
       "452         15      1465          9          492  "
      ]
     },
     "execution_count": 29,
     "metadata": {},
     "output_type": "execute_result"
    }
   ],
   "source": [
    "df_puertos.head()"
   ]
  },
  {
   "cell_type": "code",
   "execution_count": 30,
   "metadata": {},
   "outputs": [
    {
     "data": {
      "text/html": [
       "<div>\n",
       "<style scoped>\n",
       "    .dataframe tbody tr th:only-of-type {\n",
       "        vertical-align: middle;\n",
       "    }\n",
       "\n",
       "    .dataframe tbody tr th {\n",
       "        vertical-align: top;\n",
       "    }\n",
       "\n",
       "    .dataframe thead th {\n",
       "        text-align: right;\n",
       "    }\n",
       "</style>\n",
       "<table border=\"1\" class=\"dataframe\">\n",
       "  <thead>\n",
       "    <tr style=\"text-align: right;\">\n",
       "      <th></th>\n",
       "      <th>puerto</th>\n",
       "      <th>provincia</th>\n",
       "      <th>pueblo</th>\n",
       "      <th>altitud</th>\n",
       "      <th>distancia</th>\n",
       "      <th>desnivel</th>\n",
       "      <th>pendiente</th>\n",
       "      <th>coeficiente</th>\n",
       "    </tr>\n",
       "  </thead>\n",
       "  <tbody>\n",
       "    <tr>\n",
       "      <th>696</th>\n",
       "      <td>SIERRA NEVADA-PICO VELETA</td>\n",
       "      <td>GRANADA</td>\n",
       "      <td>Haza Llanas-Las Sabinas</td>\n",
       "      <td>3296</td>\n",
       "      <td>39</td>\n",
       "      <td>2527</td>\n",
       "      <td>6</td>\n",
       "      <td>616</td>\n",
       "    </tr>\n",
       "    <tr>\n",
       "      <th>250</th>\n",
       "      <td>ANGLIRU</td>\n",
       "      <td>ASTURIAS</td>\n",
       "      <td>Santa Eulalia</td>\n",
       "      <td>1570</td>\n",
       "      <td>18</td>\n",
       "      <td>1423</td>\n",
       "      <td>7</td>\n",
       "      <td>528</td>\n",
       "    </tr>\n",
       "    <tr>\n",
       "      <th>452</th>\n",
       "      <td>GAMONITEIRO</td>\n",
       "      <td>ASTURIAS</td>\n",
       "      <td>Pola-Cobertoria</td>\n",
       "      <td>1772</td>\n",
       "      <td>15</td>\n",
       "      <td>1465</td>\n",
       "      <td>9</td>\n",
       "      <td>492</td>\n",
       "    </tr>\n",
       "    <tr>\n",
       "      <th>402</th>\n",
       "      <td>ROQUE DE LOS MUCHACHOS</td>\n",
       "      <td>SC DE TENERIFE</td>\n",
       "      <td>Garafía</td>\n",
       "      <td>2400</td>\n",
       "      <td>29</td>\n",
       "      <td>2164</td>\n",
       "      <td>7</td>\n",
       "      <td>477</td>\n",
       "    </tr>\n",
       "    <tr>\n",
       "      <th>148</th>\n",
       "      <td>TEIDE</td>\n",
       "      <td>SC DE TENERIFE</td>\n",
       "      <td>Santa Cruz</td>\n",
       "      <td>2325</td>\n",
       "      <td>63</td>\n",
       "      <td>2308</td>\n",
       "      <td>3</td>\n",
       "      <td>474</td>\n",
       "    </tr>\n",
       "  </tbody>\n",
       "</table>\n",
       "</div>"
      ],
      "text/plain": [
       "                        puerto       provincia                   pueblo  \\\n",
       "696  SIERRA NEVADA-PICO VELETA         GRANADA  Haza Llanas-Las Sabinas   \n",
       "250                    ANGLIRU        ASTURIAS            Santa Eulalia   \n",
       "452                GAMONITEIRO        ASTURIAS          Pola-Cobertoria   \n",
       "402     ROQUE DE LOS MUCHACHOS  SC DE TENERIFE                  Garafía   \n",
       "148                      TEIDE  SC DE TENERIFE               Santa Cruz   \n",
       "\n",
       "     altitud  distancia  desnivel  pendiente  coeficiente  \n",
       "696     3296         39      2527          6          616  \n",
       "250     1570         18      1423          7          528  \n",
       "452     1772         15      1465          9          492  \n",
       "402     2400         29      2164          7          477  \n",
       "148     2325         63      2308          3          474  "
      ]
     },
     "execution_count": 30,
     "metadata": {},
     "output_type": "execute_result"
    }
   ],
   "source": [
    "df_puertos.drop_duplicates(subset =\"puerto\", inplace = True)\n",
    "df_puertos.head()"
   ]
  },
  {
   "cell_type": "code",
   "execution_count": 31,
   "metadata": {},
   "outputs": [],
   "source": [
    "df_coef_provincia = df_puertos.groupby('provincia').mean('coeficiente')"
   ]
  },
  {
   "cell_type": "code",
   "execution_count": 32,
   "metadata": {},
   "outputs": [
    {
     "data": {
      "text/html": [
       "<div>\n",
       "<style scoped>\n",
       "    .dataframe tbody tr th:only-of-type {\n",
       "        vertical-align: middle;\n",
       "    }\n",
       "\n",
       "    .dataframe tbody tr th {\n",
       "        vertical-align: top;\n",
       "    }\n",
       "\n",
       "    .dataframe thead th {\n",
       "        text-align: right;\n",
       "    }\n",
       "</style>\n",
       "<table border=\"1\" class=\"dataframe\">\n",
       "  <thead>\n",
       "    <tr style=\"text-align: right;\">\n",
       "      <th></th>\n",
       "      <th>altitud</th>\n",
       "      <th>distancia</th>\n",
       "      <th>desnivel</th>\n",
       "      <th>pendiente</th>\n",
       "      <th>coeficiente</th>\n",
       "    </tr>\n",
       "    <tr>\n",
       "      <th>provincia</th>\n",
       "      <th></th>\n",
       "      <th></th>\n",
       "      <th></th>\n",
       "      <th></th>\n",
       "      <th></th>\n",
       "    </tr>\n",
       "  </thead>\n",
       "  <tbody>\n",
       "    <tr>\n",
       "      <th>A CORUÑA</th>\n",
       "      <td>505.80000</td>\n",
       "      <td>6.600000</td>\n",
       "      <td>436.000000</td>\n",
       "      <td>7.000000</td>\n",
       "      <td>117.20000</td>\n",
       "    </tr>\n",
       "    <tr>\n",
       "      <th>ALBACETE</th>\n",
       "      <td>1402.50000</td>\n",
       "      <td>12.500000</td>\n",
       "      <td>782.500000</td>\n",
       "      <td>6.000000</td>\n",
       "      <td>174.50000</td>\n",
       "    </tr>\n",
       "    <tr>\n",
       "      <th>ALICANTE</th>\n",
       "      <td>810.87500</td>\n",
       "      <td>7.750000</td>\n",
       "      <td>577.625000</td>\n",
       "      <td>7.750000</td>\n",
       "      <td>171.12500</td>\n",
       "    </tr>\n",
       "    <tr>\n",
       "      <th>ALMERÍA</th>\n",
       "      <td>1670.87500</td>\n",
       "      <td>18.750000</td>\n",
       "      <td>1001.375000</td>\n",
       "      <td>4.875000</td>\n",
       "      <td>216.37500</td>\n",
       "    </tr>\n",
       "    <tr>\n",
       "      <th>ASTURIAS</th>\n",
       "      <td>1163.37931</td>\n",
       "      <td>11.551724</td>\n",
       "      <td>818.068966</td>\n",
       "      <td>7.034483</td>\n",
       "      <td>226.62069</td>\n",
       "    </tr>\n",
       "  </tbody>\n",
       "</table>\n",
       "</div>"
      ],
      "text/plain": [
       "              altitud  distancia     desnivel  pendiente  coeficiente\n",
       "provincia                                                            \n",
       "A CORUÑA    505.80000   6.600000   436.000000   7.000000    117.20000\n",
       "ALBACETE   1402.50000  12.500000   782.500000   6.000000    174.50000\n",
       "ALICANTE    810.87500   7.750000   577.625000   7.750000    171.12500\n",
       "ALMERÍA    1670.87500  18.750000  1001.375000   4.875000    216.37500\n",
       "ASTURIAS   1163.37931  11.551724   818.068966   7.034483    226.62069"
      ]
     },
     "execution_count": 32,
     "metadata": {},
     "output_type": "execute_result"
    }
   ],
   "source": [
    "df_coef_provincia.head()"
   ]
  },
  {
   "cell_type": "code",
   "execution_count": 33,
   "metadata": {},
   "outputs": [
    {
     "data": {
      "text/html": [
       "<div>\n",
       "<style scoped>\n",
       "    .dataframe tbody tr th:only-of-type {\n",
       "        vertical-align: middle;\n",
       "    }\n",
       "\n",
       "    .dataframe tbody tr th {\n",
       "        vertical-align: top;\n",
       "    }\n",
       "\n",
       "    .dataframe thead th {\n",
       "        text-align: right;\n",
       "    }\n",
       "</style>\n",
       "<table border=\"1\" class=\"dataframe\">\n",
       "  <thead>\n",
       "    <tr style=\"text-align: right;\">\n",
       "      <th></th>\n",
       "      <th>altitud</th>\n",
       "      <th>distancia</th>\n",
       "      <th>desnivel</th>\n",
       "      <th>pendiente</th>\n",
       "      <th>coeficiente</th>\n",
       "    </tr>\n",
       "    <tr>\n",
       "      <th>provincia</th>\n",
       "      <th></th>\n",
       "      <th></th>\n",
       "      <th></th>\n",
       "      <th></th>\n",
       "      <th></th>\n",
       "    </tr>\n",
       "  </thead>\n",
       "  <tbody>\n",
       "    <tr>\n",
       "      <th>LAS PALMAS</th>\n",
       "      <td>1282.333333</td>\n",
       "      <td>16.666667</td>\n",
       "      <td>1154.000000</td>\n",
       "      <td>6.000000</td>\n",
       "      <td>293.666667</td>\n",
       "    </tr>\n",
       "    <tr>\n",
       "      <th>SC DE TENERIFE</th>\n",
       "      <td>1320.142857</td>\n",
       "      <td>21.000000</td>\n",
       "      <td>1117.714286</td>\n",
       "      <td>6.428571</td>\n",
       "      <td>246.428571</td>\n",
       "    </tr>\n",
       "    <tr>\n",
       "      <th>ASTURIAS</th>\n",
       "      <td>1163.379310</td>\n",
       "      <td>11.551724</td>\n",
       "      <td>818.068966</td>\n",
       "      <td>7.034483</td>\n",
       "      <td>226.620690</td>\n",
       "    </tr>\n",
       "    <tr>\n",
       "      <th>ALMERÍA</th>\n",
       "      <td>1670.875000</td>\n",
       "      <td>18.750000</td>\n",
       "      <td>1001.375000</td>\n",
       "      <td>4.875000</td>\n",
       "      <td>216.375000</td>\n",
       "    </tr>\n",
       "    <tr>\n",
       "      <th>OURENSE</th>\n",
       "      <td>1386.666667</td>\n",
       "      <td>22.000000</td>\n",
       "      <td>1067.333333</td>\n",
       "      <td>3.666667</td>\n",
       "      <td>212.000000</td>\n",
       "    </tr>\n",
       "    <tr>\n",
       "      <th>JAÉN</th>\n",
       "      <td>1464.000000</td>\n",
       "      <td>12.750000</td>\n",
       "      <td>838.000000</td>\n",
       "      <td>6.250000</td>\n",
       "      <td>210.500000</td>\n",
       "    </tr>\n",
       "    <tr>\n",
       "      <th>GRANADA</th>\n",
       "      <td>1374.700000</td>\n",
       "      <td>14.500000</td>\n",
       "      <td>853.400000</td>\n",
       "      <td>5.750000</td>\n",
       "      <td>204.000000</td>\n",
       "    </tr>\n",
       "    <tr>\n",
       "      <th>GERONA</th>\n",
       "      <td>1284.000000</td>\n",
       "      <td>13.000000</td>\n",
       "      <td>807.250000</td>\n",
       "      <td>6.000000</td>\n",
       "      <td>191.500000</td>\n",
       "    </tr>\n",
       "    <tr>\n",
       "      <th>MURCIA</th>\n",
       "      <td>823.250000</td>\n",
       "      <td>10.500000</td>\n",
       "      <td>712.000000</td>\n",
       "      <td>6.750000</td>\n",
       "      <td>181.500000</td>\n",
       "    </tr>\n",
       "    <tr>\n",
       "      <th>LUGO</th>\n",
       "      <td>1210.600000</td>\n",
       "      <td>19.800000</td>\n",
       "      <td>780.600000</td>\n",
       "      <td>3.600000</td>\n",
       "      <td>177.400000</td>\n",
       "    </tr>\n",
       "  </tbody>\n",
       "</table>\n",
       "</div>"
      ],
      "text/plain": [
       "                    altitud  distancia     desnivel  pendiente  coeficiente\n",
       "provincia                                                                  \n",
       "LAS PALMAS      1282.333333  16.666667  1154.000000   6.000000   293.666667\n",
       "SC DE TENERIFE  1320.142857  21.000000  1117.714286   6.428571   246.428571\n",
       "ASTURIAS        1163.379310  11.551724   818.068966   7.034483   226.620690\n",
       "ALMERÍA         1670.875000  18.750000  1001.375000   4.875000   216.375000\n",
       "OURENSE         1386.666667  22.000000  1067.333333   3.666667   212.000000\n",
       "JAÉN            1464.000000  12.750000   838.000000   6.250000   210.500000\n",
       "GRANADA         1374.700000  14.500000   853.400000   5.750000   204.000000\n",
       "GERONA          1284.000000  13.000000   807.250000   6.000000   191.500000\n",
       "MURCIA           823.250000  10.500000   712.000000   6.750000   181.500000\n",
       "LUGO            1210.600000  19.800000   780.600000   3.600000   177.400000"
      ]
     },
     "execution_count": 33,
     "metadata": {},
     "output_type": "execute_result"
    }
   ],
   "source": [
    "df_coef_provincia.sort_values('coeficiente', ascending=False).head(10)"
   ]
  },
  {
   "cell_type": "code",
   "execution_count": 34,
   "metadata": {},
   "outputs": [],
   "source": [
    "df__coef_provincia = df_coef_provincia.drop('LAS PALMAS', inplace=True)"
   ]
  },
  {
   "cell_type": "code",
   "execution_count": 35,
   "metadata": {},
   "outputs": [
    {
     "data": {
      "text/html": [
       "<div>\n",
       "<style scoped>\n",
       "    .dataframe tbody tr th:only-of-type {\n",
       "        vertical-align: middle;\n",
       "    }\n",
       "\n",
       "    .dataframe tbody tr th {\n",
       "        vertical-align: top;\n",
       "    }\n",
       "\n",
       "    .dataframe thead th {\n",
       "        text-align: right;\n",
       "    }\n",
       "</style>\n",
       "<table border=\"1\" class=\"dataframe\">\n",
       "  <thead>\n",
       "    <tr style=\"text-align: right;\">\n",
       "      <th></th>\n",
       "      <th>altitud</th>\n",
       "      <th>distancia</th>\n",
       "      <th>desnivel</th>\n",
       "      <th>pendiente</th>\n",
       "      <th>coeficiente</th>\n",
       "    </tr>\n",
       "    <tr>\n",
       "      <th>provincia</th>\n",
       "      <th></th>\n",
       "      <th></th>\n",
       "      <th></th>\n",
       "      <th></th>\n",
       "      <th></th>\n",
       "    </tr>\n",
       "  </thead>\n",
       "  <tbody>\n",
       "    <tr>\n",
       "      <th>SC DE TENERIFE</th>\n",
       "      <td>1320.142857</td>\n",
       "      <td>21.000000</td>\n",
       "      <td>1117.714286</td>\n",
       "      <td>6.428571</td>\n",
       "      <td>246.428571</td>\n",
       "    </tr>\n",
       "    <tr>\n",
       "      <th>ASTURIAS</th>\n",
       "      <td>1163.379310</td>\n",
       "      <td>11.551724</td>\n",
       "      <td>818.068966</td>\n",
       "      <td>7.034483</td>\n",
       "      <td>226.620690</td>\n",
       "    </tr>\n",
       "    <tr>\n",
       "      <th>ALMERÍA</th>\n",
       "      <td>1670.875000</td>\n",
       "      <td>18.750000</td>\n",
       "      <td>1001.375000</td>\n",
       "      <td>4.875000</td>\n",
       "      <td>216.375000</td>\n",
       "    </tr>\n",
       "    <tr>\n",
       "      <th>OURENSE</th>\n",
       "      <td>1386.666667</td>\n",
       "      <td>22.000000</td>\n",
       "      <td>1067.333333</td>\n",
       "      <td>3.666667</td>\n",
       "      <td>212.000000</td>\n",
       "    </tr>\n",
       "    <tr>\n",
       "      <th>JAÉN</th>\n",
       "      <td>1464.000000</td>\n",
       "      <td>12.750000</td>\n",
       "      <td>838.000000</td>\n",
       "      <td>6.250000</td>\n",
       "      <td>210.500000</td>\n",
       "    </tr>\n",
       "    <tr>\n",
       "      <th>GRANADA</th>\n",
       "      <td>1374.700000</td>\n",
       "      <td>14.500000</td>\n",
       "      <td>853.400000</td>\n",
       "      <td>5.750000</td>\n",
       "      <td>204.000000</td>\n",
       "    </tr>\n",
       "    <tr>\n",
       "      <th>GERONA</th>\n",
       "      <td>1284.000000</td>\n",
       "      <td>13.000000</td>\n",
       "      <td>807.250000</td>\n",
       "      <td>6.000000</td>\n",
       "      <td>191.500000</td>\n",
       "    </tr>\n",
       "    <tr>\n",
       "      <th>MURCIA</th>\n",
       "      <td>823.250000</td>\n",
       "      <td>10.500000</td>\n",
       "      <td>712.000000</td>\n",
       "      <td>6.750000</td>\n",
       "      <td>181.500000</td>\n",
       "    </tr>\n",
       "    <tr>\n",
       "      <th>LUGO</th>\n",
       "      <td>1210.600000</td>\n",
       "      <td>19.800000</td>\n",
       "      <td>780.600000</td>\n",
       "      <td>3.600000</td>\n",
       "      <td>177.400000</td>\n",
       "    </tr>\n",
       "    <tr>\n",
       "      <th>ALBACETE</th>\n",
       "      <td>1402.500000</td>\n",
       "      <td>12.500000</td>\n",
       "      <td>782.500000</td>\n",
       "      <td>6.000000</td>\n",
       "      <td>174.500000</td>\n",
       "    </tr>\n",
       "  </tbody>\n",
       "</table>\n",
       "</div>"
      ],
      "text/plain": [
       "                    altitud  distancia     desnivel  pendiente  coeficiente\n",
       "provincia                                                                  \n",
       "SC DE TENERIFE  1320.142857  21.000000  1117.714286   6.428571   246.428571\n",
       "ASTURIAS        1163.379310  11.551724   818.068966   7.034483   226.620690\n",
       "ALMERÍA         1670.875000  18.750000  1001.375000   4.875000   216.375000\n",
       "OURENSE         1386.666667  22.000000  1067.333333   3.666667   212.000000\n",
       "JAÉN            1464.000000  12.750000   838.000000   6.250000   210.500000\n",
       "GRANADA         1374.700000  14.500000   853.400000   5.750000   204.000000\n",
       "GERONA          1284.000000  13.000000   807.250000   6.000000   191.500000\n",
       "MURCIA           823.250000  10.500000   712.000000   6.750000   181.500000\n",
       "LUGO            1210.600000  19.800000   780.600000   3.600000   177.400000\n",
       "ALBACETE        1402.500000  12.500000   782.500000   6.000000   174.500000"
      ]
     },
     "execution_count": 35,
     "metadata": {},
     "output_type": "execute_result"
    }
   ],
   "source": [
    "df_coef_provincia.sort_values('coeficiente', ascending=False).head(10)"
   ]
  },
  {
   "cell_type": "code",
   "execution_count": 36,
   "metadata": {},
   "outputs": [
    {
     "data": {
      "text/html": [
       "<div>\n",
       "<style scoped>\n",
       "    .dataframe tbody tr th:only-of-type {\n",
       "        vertical-align: middle;\n",
       "    }\n",
       "\n",
       "    .dataframe tbody tr th {\n",
       "        vertical-align: top;\n",
       "    }\n",
       "\n",
       "    .dataframe thead th {\n",
       "        text-align: right;\n",
       "    }\n",
       "</style>\n",
       "<table border=\"1\" class=\"dataframe\">\n",
       "  <thead>\n",
       "    <tr style=\"text-align: right;\">\n",
       "      <th></th>\n",
       "      <th>altitud</th>\n",
       "      <th>distancia</th>\n",
       "      <th>desnivel</th>\n",
       "      <th>pendiente</th>\n",
       "      <th>coeficiente</th>\n",
       "    </tr>\n",
       "    <tr>\n",
       "      <th>provincia</th>\n",
       "      <th></th>\n",
       "      <th></th>\n",
       "      <th></th>\n",
       "      <th></th>\n",
       "      <th></th>\n",
       "    </tr>\n",
       "  </thead>\n",
       "  <tbody>\n",
       "    <tr>\n",
       "      <th>ASTURIAS</th>\n",
       "      <td>1163.379310</td>\n",
       "      <td>11.551724</td>\n",
       "      <td>818.068966</td>\n",
       "      <td>7.034483</td>\n",
       "      <td>226.62069</td>\n",
       "    </tr>\n",
       "    <tr>\n",
       "      <th>ALMERÍA</th>\n",
       "      <td>1670.875000</td>\n",
       "      <td>18.750000</td>\n",
       "      <td>1001.375000</td>\n",
       "      <td>4.875000</td>\n",
       "      <td>216.37500</td>\n",
       "    </tr>\n",
       "    <tr>\n",
       "      <th>OURENSE</th>\n",
       "      <td>1386.666667</td>\n",
       "      <td>22.000000</td>\n",
       "      <td>1067.333333</td>\n",
       "      <td>3.666667</td>\n",
       "      <td>212.00000</td>\n",
       "    </tr>\n",
       "    <tr>\n",
       "      <th>JAÉN</th>\n",
       "      <td>1464.000000</td>\n",
       "      <td>12.750000</td>\n",
       "      <td>838.000000</td>\n",
       "      <td>6.250000</td>\n",
       "      <td>210.50000</td>\n",
       "    </tr>\n",
       "    <tr>\n",
       "      <th>GRANADA</th>\n",
       "      <td>1374.700000</td>\n",
       "      <td>14.500000</td>\n",
       "      <td>853.400000</td>\n",
       "      <td>5.750000</td>\n",
       "      <td>204.00000</td>\n",
       "    </tr>\n",
       "    <tr>\n",
       "      <th>GERONA</th>\n",
       "      <td>1284.000000</td>\n",
       "      <td>13.000000</td>\n",
       "      <td>807.250000</td>\n",
       "      <td>6.000000</td>\n",
       "      <td>191.50000</td>\n",
       "    </tr>\n",
       "    <tr>\n",
       "      <th>MURCIA</th>\n",
       "      <td>823.250000</td>\n",
       "      <td>10.500000</td>\n",
       "      <td>712.000000</td>\n",
       "      <td>6.750000</td>\n",
       "      <td>181.50000</td>\n",
       "    </tr>\n",
       "    <tr>\n",
       "      <th>LUGO</th>\n",
       "      <td>1210.600000</td>\n",
       "      <td>19.800000</td>\n",
       "      <td>780.600000</td>\n",
       "      <td>3.600000</td>\n",
       "      <td>177.40000</td>\n",
       "    </tr>\n",
       "    <tr>\n",
       "      <th>ALBACETE</th>\n",
       "      <td>1402.500000</td>\n",
       "      <td>12.500000</td>\n",
       "      <td>782.500000</td>\n",
       "      <td>6.000000</td>\n",
       "      <td>174.50000</td>\n",
       "    </tr>\n",
       "    <tr>\n",
       "      <th>TERUEL</th>\n",
       "      <td>1814.000000</td>\n",
       "      <td>14.800000</td>\n",
       "      <td>733.200000</td>\n",
       "      <td>5.200000</td>\n",
       "      <td>172.40000</td>\n",
       "    </tr>\n",
       "  </tbody>\n",
       "</table>\n",
       "</div>"
      ],
      "text/plain": [
       "               altitud  distancia     desnivel  pendiente  coeficiente\n",
       "provincia                                                             \n",
       "ASTURIAS   1163.379310  11.551724   818.068966   7.034483    226.62069\n",
       "ALMERÍA    1670.875000  18.750000  1001.375000   4.875000    216.37500\n",
       "OURENSE    1386.666667  22.000000  1067.333333   3.666667    212.00000\n",
       "JAÉN       1464.000000  12.750000   838.000000   6.250000    210.50000\n",
       "GRANADA    1374.700000  14.500000   853.400000   5.750000    204.00000\n",
       "GERONA     1284.000000  13.000000   807.250000   6.000000    191.50000\n",
       "MURCIA      823.250000  10.500000   712.000000   6.750000    181.50000\n",
       "LUGO       1210.600000  19.800000   780.600000   3.600000    177.40000\n",
       "ALBACETE   1402.500000  12.500000   782.500000   6.000000    174.50000\n",
       "TERUEL     1814.000000  14.800000   733.200000   5.200000    172.40000"
      ]
     },
     "execution_count": 36,
     "metadata": {},
     "output_type": "execute_result"
    }
   ],
   "source": [
    "df__coef_provincia = df_coef_provincia.drop('SC DE TENERIFE', inplace=True)\n",
    "df_coef_provincia.sort_values('coeficiente', ascending=False).head(10)"
   ]
  },
  {
   "cell_type": "code",
   "execution_count": 37,
   "metadata": {},
   "outputs": [
    {
     "data": {
      "text/html": [
       "<div>\n",
       "<style scoped>\n",
       "    .dataframe tbody tr th:only-of-type {\n",
       "        vertical-align: middle;\n",
       "    }\n",
       "\n",
       "    .dataframe tbody tr th {\n",
       "        vertical-align: top;\n",
       "    }\n",
       "\n",
       "    .dataframe thead th {\n",
       "        text-align: right;\n",
       "    }\n",
       "</style>\n",
       "<table border=\"1\" class=\"dataframe\">\n",
       "  <thead>\n",
       "    <tr style=\"text-align: right;\">\n",
       "      <th></th>\n",
       "      <th>altitud</th>\n",
       "      <th>distancia</th>\n",
       "      <th>desnivel</th>\n",
       "      <th>pendiente</th>\n",
       "      <th>coeficiente</th>\n",
       "    </tr>\n",
       "    <tr>\n",
       "      <th>provincia</th>\n",
       "      <th></th>\n",
       "      <th></th>\n",
       "      <th></th>\n",
       "      <th></th>\n",
       "      <th></th>\n",
       "    </tr>\n",
       "  </thead>\n",
       "  <tbody>\n",
       "    <tr>\n",
       "      <th>TERUEL</th>\n",
       "      <td>1814.000000</td>\n",
       "      <td>14.800000</td>\n",
       "      <td>733.200000</td>\n",
       "      <td>5.200000</td>\n",
       "      <td>172.400000</td>\n",
       "    </tr>\n",
       "    <tr>\n",
       "      <th>SEGOVIA</th>\n",
       "      <td>1784.500000</td>\n",
       "      <td>9.500000</td>\n",
       "      <td>595.000000</td>\n",
       "      <td>6.000000</td>\n",
       "      <td>148.500000</td>\n",
       "    </tr>\n",
       "    <tr>\n",
       "      <th>ZAMORA</th>\n",
       "      <td>1770.000000</td>\n",
       "      <td>15.666667</td>\n",
       "      <td>751.666667</td>\n",
       "      <td>4.666667</td>\n",
       "      <td>143.000000</td>\n",
       "    </tr>\n",
       "    <tr>\n",
       "      <th>LLEIDA</th>\n",
       "      <td>1687.818182</td>\n",
       "      <td>13.272727</td>\n",
       "      <td>699.000000</td>\n",
       "      <td>4.909091</td>\n",
       "      <td>143.272727</td>\n",
       "    </tr>\n",
       "    <tr>\n",
       "      <th>ALMERÍA</th>\n",
       "      <td>1670.875000</td>\n",
       "      <td>18.750000</td>\n",
       "      <td>1001.375000</td>\n",
       "      <td>4.875000</td>\n",
       "      <td>216.375000</td>\n",
       "    </tr>\n",
       "    <tr>\n",
       "      <th>MADRID</th>\n",
       "      <td>1626.100000</td>\n",
       "      <td>10.800000</td>\n",
       "      <td>590.600000</td>\n",
       "      <td>4.700000</td>\n",
       "      <td>119.300000</td>\n",
       "    </tr>\n",
       "    <tr>\n",
       "      <th>PALENCIA</th>\n",
       "      <td>1484.333333</td>\n",
       "      <td>9.000000</td>\n",
       "      <td>454.333333</td>\n",
       "      <td>4.666667</td>\n",
       "      <td>87.333333</td>\n",
       "    </tr>\n",
       "    <tr>\n",
       "      <th>JAÉN</th>\n",
       "      <td>1464.000000</td>\n",
       "      <td>12.750000</td>\n",
       "      <td>838.000000</td>\n",
       "      <td>6.250000</td>\n",
       "      <td>210.500000</td>\n",
       "    </tr>\n",
       "    <tr>\n",
       "      <th>ÁVILA</th>\n",
       "      <td>1437.272727</td>\n",
       "      <td>10.454545</td>\n",
       "      <td>575.727273</td>\n",
       "      <td>5.090909</td>\n",
       "      <td>103.000000</td>\n",
       "    </tr>\n",
       "    <tr>\n",
       "      <th>ALBACETE</th>\n",
       "      <td>1402.500000</td>\n",
       "      <td>12.500000</td>\n",
       "      <td>782.500000</td>\n",
       "      <td>6.000000</td>\n",
       "      <td>174.500000</td>\n",
       "    </tr>\n",
       "  </tbody>\n",
       "</table>\n",
       "</div>"
      ],
      "text/plain": [
       "               altitud  distancia     desnivel  pendiente  coeficiente\n",
       "provincia                                                             \n",
       "TERUEL     1814.000000  14.800000   733.200000   5.200000   172.400000\n",
       "SEGOVIA    1784.500000   9.500000   595.000000   6.000000   148.500000\n",
       "ZAMORA     1770.000000  15.666667   751.666667   4.666667   143.000000\n",
       "LLEIDA     1687.818182  13.272727   699.000000   4.909091   143.272727\n",
       "ALMERÍA    1670.875000  18.750000  1001.375000   4.875000   216.375000\n",
       "MADRID     1626.100000  10.800000   590.600000   4.700000   119.300000\n",
       "PALENCIA   1484.333333   9.000000   454.333333   4.666667    87.333333\n",
       "JAÉN       1464.000000  12.750000   838.000000   6.250000   210.500000\n",
       "ÁVILA      1437.272727  10.454545   575.727273   5.090909   103.000000\n",
       "ALBACETE   1402.500000  12.500000   782.500000   6.000000   174.500000"
      ]
     },
     "execution_count": 37,
     "metadata": {},
     "output_type": "execute_result"
    }
   ],
   "source": [
    "df_coef_provincia.sort_values('altitud', ascending=False).head(10)"
   ]
  },
  {
   "cell_type": "code",
   "execution_count": null,
   "metadata": {},
   "outputs": [],
   "source": []
  }
 ],
 "metadata": {
  "kernelspec": {
   "display_name": "Python 3",
   "language": "python",
   "name": "python3"
  },
  "language_info": {
   "codemirror_mode": {
    "name": "ipython",
    "version": 3
   },
   "file_extension": ".py",
   "mimetype": "text/x-python",
   "name": "python",
   "nbconvert_exporter": "python",
   "pygments_lexer": "ipython3",
   "version": "3.8.5"
  }
 },
 "nbformat": 4,
 "nbformat_minor": 4
}
